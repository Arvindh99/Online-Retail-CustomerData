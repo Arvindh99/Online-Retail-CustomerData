{
 "cells": [
  {
   "cell_type": "code",
   "execution_count": 1,
   "id": "90af7ab0-d70c-445f-886f-f9488cf956cc",
   "metadata": {},
   "outputs": [],
   "source": [
    "import pandas as pd\n",
    "import numpy as np\n",
    "import re"
   ]
  },
  {
   "cell_type": "code",
   "execution_count": 2,
   "id": "713217a6-6a5a-490a-bb3d-93c4838211d5",
   "metadata": {},
   "outputs": [],
   "source": [
    "data = pd.read_excel(\"Online Retail.xlsx\")"
   ]
  },
  {
   "cell_type": "code",
   "execution_count": 3,
   "id": "5be7f703-ebcb-408b-8292-817f9e8172b6",
   "metadata": {},
   "outputs": [
    {
     "data": {
      "text/plain": [
       "(541909, 8)"
      ]
     },
     "execution_count": 3,
     "metadata": {},
     "output_type": "execute_result"
    }
   ],
   "source": [
    "data.shape"
   ]
  },
  {
   "cell_type": "code",
   "execution_count": 4,
   "id": "b7b1fe37-afeb-4b8f-b7c6-2bbe5e398816",
   "metadata": {},
   "outputs": [
    {
     "data": {
      "text/html": [
       "<div>\n",
       "<style scoped>\n",
       "    .dataframe tbody tr th:only-of-type {\n",
       "        vertical-align: middle;\n",
       "    }\n",
       "\n",
       "    .dataframe tbody tr th {\n",
       "        vertical-align: top;\n",
       "    }\n",
       "\n",
       "    .dataframe thead th {\n",
       "        text-align: right;\n",
       "    }\n",
       "</style>\n",
       "<table border=\"1\" class=\"dataframe\">\n",
       "  <thead>\n",
       "    <tr style=\"text-align: right;\">\n",
       "      <th></th>\n",
       "      <th>InvoiceNo</th>\n",
       "      <th>StockCode</th>\n",
       "      <th>Description</th>\n",
       "      <th>Quantity</th>\n",
       "      <th>InvoiceDate</th>\n",
       "      <th>UnitPrice</th>\n",
       "      <th>CustomerID</th>\n",
       "      <th>Country</th>\n",
       "    </tr>\n",
       "  </thead>\n",
       "  <tbody>\n",
       "    <tr>\n",
       "      <th>0</th>\n",
       "      <td>536365</td>\n",
       "      <td>85123A</td>\n",
       "      <td>WHITE HANGING HEART T-LIGHT HOLDER</td>\n",
       "      <td>6</td>\n",
       "      <td>2010-12-01 08:26:00</td>\n",
       "      <td>2.55</td>\n",
       "      <td>17850.0</td>\n",
       "      <td>United Kingdom</td>\n",
       "    </tr>\n",
       "    <tr>\n",
       "      <th>1</th>\n",
       "      <td>536365</td>\n",
       "      <td>71053</td>\n",
       "      <td>WHITE METAL LANTERN</td>\n",
       "      <td>6</td>\n",
       "      <td>2010-12-01 08:26:00</td>\n",
       "      <td>3.39</td>\n",
       "      <td>17850.0</td>\n",
       "      <td>United Kingdom</td>\n",
       "    </tr>\n",
       "    <tr>\n",
       "      <th>2</th>\n",
       "      <td>536365</td>\n",
       "      <td>84406B</td>\n",
       "      <td>CREAM CUPID HEARTS COAT HANGER</td>\n",
       "      <td>8</td>\n",
       "      <td>2010-12-01 08:26:00</td>\n",
       "      <td>2.75</td>\n",
       "      <td>17850.0</td>\n",
       "      <td>United Kingdom</td>\n",
       "    </tr>\n",
       "    <tr>\n",
       "      <th>3</th>\n",
       "      <td>536365</td>\n",
       "      <td>84029G</td>\n",
       "      <td>KNITTED UNION FLAG HOT WATER BOTTLE</td>\n",
       "      <td>6</td>\n",
       "      <td>2010-12-01 08:26:00</td>\n",
       "      <td>3.39</td>\n",
       "      <td>17850.0</td>\n",
       "      <td>United Kingdom</td>\n",
       "    </tr>\n",
       "    <tr>\n",
       "      <th>4</th>\n",
       "      <td>536365</td>\n",
       "      <td>84029E</td>\n",
       "      <td>RED WOOLLY HOTTIE WHITE HEART.</td>\n",
       "      <td>6</td>\n",
       "      <td>2010-12-01 08:26:00</td>\n",
       "      <td>3.39</td>\n",
       "      <td>17850.0</td>\n",
       "      <td>United Kingdom</td>\n",
       "    </tr>\n",
       "  </tbody>\n",
       "</table>\n",
       "</div>"
      ],
      "text/plain": [
       "  InvoiceNo StockCode                          Description  Quantity  \\\n",
       "0    536365    85123A   WHITE HANGING HEART T-LIGHT HOLDER         6   \n",
       "1    536365     71053                  WHITE METAL LANTERN         6   \n",
       "2    536365    84406B       CREAM CUPID HEARTS COAT HANGER         8   \n",
       "3    536365    84029G  KNITTED UNION FLAG HOT WATER BOTTLE         6   \n",
       "4    536365    84029E       RED WOOLLY HOTTIE WHITE HEART.         6   \n",
       "\n",
       "          InvoiceDate  UnitPrice  CustomerID         Country  \n",
       "0 2010-12-01 08:26:00       2.55     17850.0  United Kingdom  \n",
       "1 2010-12-01 08:26:00       3.39     17850.0  United Kingdom  \n",
       "2 2010-12-01 08:26:00       2.75     17850.0  United Kingdom  \n",
       "3 2010-12-01 08:26:00       3.39     17850.0  United Kingdom  \n",
       "4 2010-12-01 08:26:00       3.39     17850.0  United Kingdom  "
      ]
     },
     "execution_count": 4,
     "metadata": {},
     "output_type": "execute_result"
    }
   ],
   "source": [
    "data.head()"
   ]
  },
  {
   "cell_type": "code",
   "execution_count": 5,
   "id": "d1a4920a-9112-48a3-817d-7c748f0cc941",
   "metadata": {},
   "outputs": [
    {
     "data": {
      "text/plain": [
       "InvoiceNo           0\n",
       "StockCode           0\n",
       "Description      1454\n",
       "Quantity            0\n",
       "InvoiceDate         0\n",
       "UnitPrice           0\n",
       "CustomerID     135080\n",
       "Country             0\n",
       "dtype: int64"
      ]
     },
     "execution_count": 5,
     "metadata": {},
     "output_type": "execute_result"
    }
   ],
   "source": [
    "data.isnull().sum()"
   ]
  },
  {
   "cell_type": "markdown",
   "id": "1c97493c-dad5-443e-995a-e927076ca848",
   "metadata": {},
   "source": [
    "#### Preprocessing techniques"
   ]
  },
  {
   "cell_type": "code",
   "execution_count": 6,
   "id": "130482e7-8afd-43b5-9e63-689ef7cd619d",
   "metadata": {},
   "outputs": [],
   "source": [
    "eda_data = data.dropna(subset=['Description'])"
   ]
  },
  {
   "cell_type": "code",
   "execution_count": 7,
   "id": "aeb9ce5f-e3ac-40ae-858a-ab87ec69b13d",
   "metadata": {},
   "outputs": [],
   "source": [
    "eda_data = eda_data[eda_data['Quantity'] > 0]\n",
    "eda_data = eda_data[eda_data['UnitPrice'] > 0]"
   ]
  },
  {
   "cell_type": "code",
   "execution_count": 8,
   "id": "7a7db515-7f94-4ad3-a9f9-2f36d8dcb46c",
   "metadata": {},
   "outputs": [],
   "source": [
    "eda_data['Description'] = eda_data['Description'].apply(lambda x: re.sub(r'[^a-zA-Z0-9-\\s]', '', x))"
   ]
  },
  {
   "cell_type": "code",
   "execution_count": 9,
   "id": "748e5869-3763-4b11-9fc0-15694da5490b",
   "metadata": {},
   "outputs": [],
   "source": [
    "eda_data = eda_data.dropna(subset=['Description'])"
   ]
  },
  {
   "cell_type": "code",
   "execution_count": 10,
   "id": "70301fe0-32b1-4f8e-a3ce-65b57552db41",
   "metadata": {},
   "outputs": [
    {
     "data": {
      "text/plain": [
       "InvoiceNo           0\n",
       "StockCode           0\n",
       "Description         0\n",
       "Quantity            0\n",
       "InvoiceDate         0\n",
       "UnitPrice           0\n",
       "CustomerID     132220\n",
       "Country             0\n",
       "dtype: int64"
      ]
     },
     "execution_count": 10,
     "metadata": {},
     "output_type": "execute_result"
    }
   ],
   "source": [
    "eda_data.isnull().sum()"
   ]
  },
  {
   "cell_type": "code",
   "execution_count": 11,
   "id": "8da276c6-b204-40ab-8fc5-a9825650b81a",
   "metadata": {},
   "outputs": [],
   "source": [
    "eda_data['Totalsales'] = eda_data['Quantity'] * eda_data['UnitPrice']"
   ]
  },
  {
   "cell_type": "code",
   "execution_count": 12,
   "id": "54a72421-c106-4e95-9d3b-62073441fe17",
   "metadata": {},
   "outputs": [],
   "source": [
    "eda_data['CustomerID'] = pd.to_numeric(eda_data['CustomerID'], errors='coerce').astype('Int64')"
   ]
  },
  {
   "cell_type": "code",
   "execution_count": 13,
   "id": "ffd1121e-974c-4883-9ac0-f3bf3e5c2006",
   "metadata": {},
   "outputs": [
    {
     "data": {
      "text/html": [
       "<div>\n",
       "<style scoped>\n",
       "    .dataframe tbody tr th:only-of-type {\n",
       "        vertical-align: middle;\n",
       "    }\n",
       "\n",
       "    .dataframe tbody tr th {\n",
       "        vertical-align: top;\n",
       "    }\n",
       "\n",
       "    .dataframe thead th {\n",
       "        text-align: right;\n",
       "    }\n",
       "</style>\n",
       "<table border=\"1\" class=\"dataframe\">\n",
       "  <thead>\n",
       "    <tr style=\"text-align: right;\">\n",
       "      <th></th>\n",
       "      <th>InvoiceNo</th>\n",
       "      <th>StockCode</th>\n",
       "      <th>Description</th>\n",
       "      <th>Quantity</th>\n",
       "      <th>InvoiceDate</th>\n",
       "      <th>UnitPrice</th>\n",
       "      <th>CustomerID</th>\n",
       "      <th>Country</th>\n",
       "      <th>Totalsales</th>\n",
       "    </tr>\n",
       "  </thead>\n",
       "  <tbody>\n",
       "    <tr>\n",
       "      <th>0</th>\n",
       "      <td>536365</td>\n",
       "      <td>85123A</td>\n",
       "      <td>WHITE HANGING HEART T-LIGHT HOLDER</td>\n",
       "      <td>6</td>\n",
       "      <td>2010-12-01 08:26:00</td>\n",
       "      <td>2.55</td>\n",
       "      <td>17850</td>\n",
       "      <td>United Kingdom</td>\n",
       "      <td>15.30</td>\n",
       "    </tr>\n",
       "    <tr>\n",
       "      <th>1</th>\n",
       "      <td>536365</td>\n",
       "      <td>71053</td>\n",
       "      <td>WHITE METAL LANTERN</td>\n",
       "      <td>6</td>\n",
       "      <td>2010-12-01 08:26:00</td>\n",
       "      <td>3.39</td>\n",
       "      <td>17850</td>\n",
       "      <td>United Kingdom</td>\n",
       "      <td>20.34</td>\n",
       "    </tr>\n",
       "    <tr>\n",
       "      <th>2</th>\n",
       "      <td>536365</td>\n",
       "      <td>84406B</td>\n",
       "      <td>CREAM CUPID HEARTS COAT HANGER</td>\n",
       "      <td>8</td>\n",
       "      <td>2010-12-01 08:26:00</td>\n",
       "      <td>2.75</td>\n",
       "      <td>17850</td>\n",
       "      <td>United Kingdom</td>\n",
       "      <td>22.00</td>\n",
       "    </tr>\n",
       "    <tr>\n",
       "      <th>3</th>\n",
       "      <td>536365</td>\n",
       "      <td>84029G</td>\n",
       "      <td>KNITTED UNION FLAG HOT WATER BOTTLE</td>\n",
       "      <td>6</td>\n",
       "      <td>2010-12-01 08:26:00</td>\n",
       "      <td>3.39</td>\n",
       "      <td>17850</td>\n",
       "      <td>United Kingdom</td>\n",
       "      <td>20.34</td>\n",
       "    </tr>\n",
       "    <tr>\n",
       "      <th>4</th>\n",
       "      <td>536365</td>\n",
       "      <td>84029E</td>\n",
       "      <td>RED WOOLLY HOTTIE WHITE HEART</td>\n",
       "      <td>6</td>\n",
       "      <td>2010-12-01 08:26:00</td>\n",
       "      <td>3.39</td>\n",
       "      <td>17850</td>\n",
       "      <td>United Kingdom</td>\n",
       "      <td>20.34</td>\n",
       "    </tr>\n",
       "  </tbody>\n",
       "</table>\n",
       "</div>"
      ],
      "text/plain": [
       "  InvoiceNo StockCode                          Description  Quantity  \\\n",
       "0    536365    85123A   WHITE HANGING HEART T-LIGHT HOLDER         6   \n",
       "1    536365     71053                  WHITE METAL LANTERN         6   \n",
       "2    536365    84406B       CREAM CUPID HEARTS COAT HANGER         8   \n",
       "3    536365    84029G  KNITTED UNION FLAG HOT WATER BOTTLE         6   \n",
       "4    536365    84029E        RED WOOLLY HOTTIE WHITE HEART         6   \n",
       "\n",
       "          InvoiceDate  UnitPrice  CustomerID         Country  Totalsales  \n",
       "0 2010-12-01 08:26:00       2.55       17850  United Kingdom       15.30  \n",
       "1 2010-12-01 08:26:00       3.39       17850  United Kingdom       20.34  \n",
       "2 2010-12-01 08:26:00       2.75       17850  United Kingdom       22.00  \n",
       "3 2010-12-01 08:26:00       3.39       17850  United Kingdom       20.34  \n",
       "4 2010-12-01 08:26:00       3.39       17850  United Kingdom       20.34  "
      ]
     },
     "execution_count": 13,
     "metadata": {},
     "output_type": "execute_result"
    }
   ],
   "source": [
    "eda_data.head()"
   ]
  },
  {
   "cell_type": "markdown",
   "id": "0be328ad-8501-476d-879e-f1b1a251dc72",
   "metadata": {},
   "source": [
    "#### Machine Learning Models"
   ]
  },
  {
   "cell_type": "code",
   "execution_count": 14,
   "id": "44855424-6c73-4422-8e73-6a953ff8fef9",
   "metadata": {},
   "outputs": [],
   "source": [
    "#### Predict Customer Purchase Probability"
   ]
  },
  {
   "cell_type": "code",
   "execution_count": 15,
   "id": "baf8460b-badf-49d4-90ba-31f227a469f8",
   "metadata": {},
   "outputs": [],
   "source": [
    "from sklearn.model_selection import train_test_split\n",
    "from sklearn.ensemble import RandomForestClassifier\n",
    "from sklearn.metrics import classification_report, confusion_matrix\n",
    "from sklearn.metrics.pairwise import cosine_similarity\n",
    "from sklearn.linear_model import LogisticRegression\n",
    "from sklearn.neighbors import KNeighborsClassifier\n",
    "from sklearn.naive_bayes import GaussianNB\n",
    "from sklearn import svm\n",
    "from sklearn import tree\n",
    "from sklearn.ensemble import GradientBoostingClassifier\n",
    "from sklearn.model_selection import RandomizedSearchCV\n",
    "from sklearn.metrics import mean_absolute_error, mean_squared_error\n",
    "from sklearn.metrics import confusion_matrix, matthews_corrcoef\n",
    "from sklearn.metrics import roc_auc_score"
   ]
  },
  {
   "cell_type": "code",
   "execution_count": 16,
   "id": "9bfa3595-d775-457c-b4f0-65152e8a649f",
   "metadata": {},
   "outputs": [],
   "source": [
    "predict_data = eda_data.copy()"
   ]
  },
  {
   "cell_type": "code",
   "execution_count": 17,
   "id": "72b9e813-6c40-476e-86ca-87cb11ce6cb3",
   "metadata": {},
   "outputs": [],
   "source": [
    "predict_data = predict_data.dropna(subset=['CustomerID'])"
   ]
  },
  {
   "cell_type": "code",
   "execution_count": 18,
   "id": "21927c96-27c9-44ea-b192-f816eb3a636c",
   "metadata": {},
   "outputs": [],
   "source": [
    "predict_data['RepeatPurchase'] = predict_data.duplicated(subset=['CustomerID', 'Description'], keep=False).astype(int)"
   ]
  },
  {
   "cell_type": "markdown",
   "id": "5ff743fd-a352-4a0f-ab8b-7564d7dd2a96",
   "metadata": {},
   "source": [
    "#####  defining the target variable:\n",
    "        1: Customer repurchased the product.\n",
    "        0: Customer did not."
   ]
  },
  {
   "cell_type": "code",
   "execution_count": 19,
   "id": "69c71aba-206d-447b-8630-b1f7b7268363",
   "metadata": {},
   "outputs": [
    {
     "data": {
      "text/plain": [
       "0    203399\n",
       "1    194485\n",
       "Name: RepeatPurchase, dtype: int64"
      ]
     },
     "execution_count": 19,
     "metadata": {},
     "output_type": "execute_result"
    }
   ],
   "source": [
    "predict_data['RepeatPurchase'].value_counts()"
   ]
  },
  {
   "cell_type": "code",
   "execution_count": 20,
   "id": "7b5d309b-b166-49c5-b9d1-de07c5ce5297",
   "metadata": {},
   "outputs": [],
   "source": [
    "X = predict_data[['CustomerID','Description']]\n",
    "y = predict_data['RepeatPurchase']"
   ]
  },
  {
   "cell_type": "code",
   "execution_count": 21,
   "id": "d7a15fae-dba3-466c-84d8-dcf309a26cf7",
   "metadata": {},
   "outputs": [
    {
     "name": "stderr",
     "output_type": "stream",
     "text": [
      "C:\\temp\\ipykernel_24020\\3090375014.py:1: SettingWithCopyWarning: \n",
      "A value is trying to be set on a copy of a slice from a DataFrame.\n",
      "Try using .loc[row_indexer,col_indexer] = value instead\n",
      "\n",
      "See the caveats in the documentation: https://pandas.pydata.org/pandas-docs/stable/user_guide/indexing.html#returning-a-view-versus-a-copy\n",
      "  X['Description'] = pd.factorize(X['Description'])[0]\n"
     ]
    }
   ],
   "source": [
    "X['Description'] = pd.factorize(X['Description'])[0]"
   ]
  },
  {
   "cell_type": "code",
   "execution_count": 22,
   "id": "e814b4b0-7149-4521-a32d-413a7e256f02",
   "metadata": {},
   "outputs": [],
   "source": [
    "X_train, X_test, y_train, y_test = train_test_split(X, y, test_size=0.2, random_state=42)"
   ]
  },
  {
   "cell_type": "code",
   "execution_count": 23,
   "id": "c90d21ad-0601-4d1e-b6a2-b4cb0c3bea8e",
   "metadata": {},
   "outputs": [],
   "source": [
    "algorithms = {'Logistic Regression': \n",
    "              {\"model\": LogisticRegression(),\n",
    "               \"params\": {}\n",
    "              },\n",
    "              \n",
    "              'Decision Tree': \n",
    "              {\"model\": tree.DecisionTreeClassifier(),\n",
    "               \"params\": {\"criterion\": ['gini','entropy'],\"max_depth\": [1, 3, 5, 7, 9, 10],\"min_samples_split\": [2, 4, 6, 8, 10],\"min_samples_leaf\": [i for i in range(1, 10)]}\n",
    "              },\n",
    "              \n",
    "              'Random Forest': \n",
    "              {\"model\": RandomForestClassifier(),\n",
    "               \"params\": {\"n_estimators\": [100, 200, 300],\"max_features\": [\"auto\", \"log2\", \"sqrt\"],\"max_depth\": [1, 3, 5, 7, 9, 10],\"min_samples_split\": [2, 4, 6, 8, 10]}\n",
    "              },\n",
    "              \n",
    "              'NaiveBayes' :\n",
    "              {\"model\": GaussianNB(),\n",
    "               \"params\": {}\n",
    "              },\n",
    "              \n",
    "              'K-Nearest Neighbors' :\n",
    "              {\"model\": KNeighborsClassifier(),\n",
    "               \"params\": {\"n_neighbors\": [3,5,10],\"weights\": [\"uniform\", \"distance\"],\"metric\": [\"euclidean\", \"manhattan\",\"minkowski\"]}\n",
    "              },\n",
    "              \n",
    "              'Gradient Boost' :\n",
    "              {\"model\": GradientBoostingClassifier(),\n",
    "               \"params\": {\"learning_rate\": np.arange(0.1, 1, 0.1),\"n_estimators\": [100, 200, 300],\"criterion\": ['friedman_mse', 'mse'],\"min_samples_split\": [2, 4, 6, 8, 10],\"min_samples_leaf\": [i for i in range(1, 10)],\"max_depth\": [1, 3, 5, 7, 9, 10],\"max_features\": [\"auto\", \"log2\", \"sqrt\"]}\n",
    "              }\n",
    "             }"
   ]
  },
  {
   "cell_type": "code",
   "execution_count": 30,
   "id": "0ade4357-26d3-465a-8840-beb83a72317c",
   "metadata": {},
   "outputs": [
    {
     "name": "stderr",
     "output_type": "stream",
     "text": [
      "C:\\ProgramData\\anaconda3\\Lib\\site-packages\\sklearn\\model_selection\\_search.py:305: UserWarning: The total space of parameters 1 is smaller than n_iter=15. Running 1 iterations. For exhaustive searches, use GridSearchCV.\n",
      "  warnings.warn(\n"
     ]
    },
    {
     "name": "stdout",
     "output_type": "stream",
     "text": [
      "Logistic Regression: Best Score = 0.5585833861705181\n",
      "Decision Tree: Best Score = 0.6336524203385748\n"
     ]
    },
    {
     "name": "stderr",
     "output_type": "stream",
     "text": [
      "C:\\ProgramData\\anaconda3\\Lib\\site-packages\\sklearn\\ensemble\\_forest.py:424: FutureWarning: `max_features='auto'` has been deprecated in 1.1 and will be removed in 1.3. To keep the past behaviour, explicitly set `max_features='sqrt'` or remove this parameter as it is also the default value for RandomForestClassifiers and ExtraTreesClassifiers.\n",
      "  warn(\n"
     ]
    },
    {
     "name": "stdout",
     "output_type": "stream",
     "text": [
      "Random Forest: Best Score = 0.6450910581404999\n"
     ]
    },
    {
     "name": "stderr",
     "output_type": "stream",
     "text": [
      "C:\\ProgramData\\anaconda3\\Lib\\site-packages\\sklearn\\model_selection\\_search.py:305: UserWarning: The total space of parameters 1 is smaller than n_iter=15. Running 1 iterations. For exhaustive searches, use GridSearchCV.\n",
      "  warnings.warn(\n"
     ]
    },
    {
     "name": "stdout",
     "output_type": "stream",
     "text": [
      "NaiveBayes: Best Score = 0.5558941561853009\n",
      "K-Nearest Neighbors: Best Score = 0.7958386010566396\n"
     ]
    },
    {
     "name": "stderr",
     "output_type": "stream",
     "text": [
      "C:\\ProgramData\\anaconda3\\Lib\\site-packages\\sklearn\\model_selection\\_validation.py:378: FitFailedWarning: \n",
      "25 fits failed out of a total of 75.\n",
      "The score on these train-test partitions for these parameters will be set to nan.\n",
      "If these failures are not expected, you can try to debug them by setting error_score='raise'.\n",
      "\n",
      "Below are more details about the failures:\n",
      "--------------------------------------------------------------------------------\n",
      "20 fits failed with the following error:\n",
      "Traceback (most recent call last):\n",
      "  File \"C:\\ProgramData\\anaconda3\\Lib\\site-packages\\sklearn\\model_selection\\_validation.py\", line 686, in _fit_and_score\n",
      "    estimator.fit(X_train, y_train, **fit_params)\n",
      "  File \"C:\\ProgramData\\anaconda3\\Lib\\site-packages\\sklearn\\ensemble\\_gb.py\", line 420, in fit\n",
      "    self._validate_params()\n",
      "  File \"C:\\ProgramData\\anaconda3\\Lib\\site-packages\\sklearn\\base.py\", line 600, in _validate_params\n",
      "    validate_parameter_constraints(\n",
      "  File \"C:\\ProgramData\\anaconda3\\Lib\\site-packages\\sklearn\\utils\\_param_validation.py\", line 97, in validate_parameter_constraints\n",
      "    raise InvalidParameterError(\n",
      "sklearn.utils._param_validation.InvalidParameterError: The 'criterion' parameter of GradientBoostingClassifier must be a str among {'squared_error', 'friedman_mse'}. Got 'mse' instead.\n",
      "\n",
      "--------------------------------------------------------------------------------\n",
      "5 fits failed with the following error:\n",
      "Traceback (most recent call last):\n",
      "  File \"C:\\ProgramData\\anaconda3\\Lib\\site-packages\\sklearn\\model_selection\\_validation.py\", line 686, in _fit_and_score\n",
      "    estimator.fit(X_train, y_train, **fit_params)\n",
      "  File \"C:\\ProgramData\\anaconda3\\Lib\\site-packages\\sklearn\\ensemble\\_gb.py\", line 420, in fit\n",
      "    self._validate_params()\n",
      "  File \"C:\\ProgramData\\anaconda3\\Lib\\site-packages\\sklearn\\base.py\", line 600, in _validate_params\n",
      "    validate_parameter_constraints(\n",
      "  File \"C:\\ProgramData\\anaconda3\\Lib\\site-packages\\sklearn\\utils\\_param_validation.py\", line 97, in validate_parameter_constraints\n",
      "    raise InvalidParameterError(\n",
      "sklearn.utils._param_validation.InvalidParameterError: The 'criterion' parameter of GradientBoostingClassifier must be a str among {'friedman_mse', 'squared_error'}. Got 'mse' instead.\n",
      "\n",
      "  warnings.warn(some_fits_failed_message, FitFailedWarning)\n",
      "C:\\ProgramData\\anaconda3\\Lib\\site-packages\\sklearn\\model_selection\\_search.py:952: UserWarning: One or more of the test scores are non-finite: [0.75638927 0.71415645        nan 0.75586776 0.74720945 0.8009029\n",
      "        nan        nan 0.73771862        nan 0.76503815 0.64641368\n",
      " 0.5956231  0.69667333        nan]\n",
      "  warnings.warn(\n"
     ]
    },
    {
     "name": "stdout",
     "output_type": "stream",
     "text": [
      "Gradient Boost: Best Score = 0.8009028986663773\n",
      "Model: Gradient Boost, Best Score: 0.8009, Best Params: {'n_estimators': 300, 'min_samples_split': 4, 'min_samples_leaf': 8, 'max_features': 'log2', 'max_depth': 10, 'learning_rate': 0.7000000000000001, 'criterion': 'friedman_mse'}\n",
      "Model: K-Nearest Neighbors, Best Score: 0.7958, Best Params: {'weights': 'distance', 'n_neighbors': 3, 'metric': 'manhattan'}\n",
      "Model: Random Forest, Best Score: 0.6451, Best Params: {'n_estimators': 300, 'min_samples_split': 2, 'max_features': 'auto', 'max_depth': 10}\n",
      "Model: Decision Tree, Best Score: 0.6337, Best Params: {'min_samples_split': 10, 'min_samples_leaf': 1, 'max_depth': 10, 'criterion': 'gini'}\n",
      "Model: Logistic Regression, Best Score: 0.5586, Best Params: {}\n",
      "Model: NaiveBayes, Best Score: 0.5559, Best Params: {}\n"
     ]
    }
   ],
   "source": [
    "best_model = {}\n",
    "best_model_details = []\n",
    "\n",
    "for model_name, values in algorithms.items():\n",
    "    rscv = RandomizedSearchCV(values[\"model\"], values[\"params\"], cv=5, n_iter=15, n_jobs=-1, verbose=0, random_state=42)\n",
    "    rscv.fit(X_train, y_train)\n",
    "\n",
    "    # Update with the actual best score\n",
    "    best_score = rscv.best_score_\n",
    "\n",
    "    best_model[model_name] = rscv\n",
    "    best_model_details.append({\n",
    "        \"Model Name\": model_name, \n",
    "        \"Best Score\": best_score, \n",
    "        \"Best Parameters\": rscv.best_params_\n",
    "    })\n",
    "\n",
    "    print(f\"{model_name}: Best Score = {best_score}\")\n",
    "\n",
    "# Display the model details sorted by performance\n",
    "best_model_details = sorted(best_model_details, key=lambda x: x['Best Score'], reverse=True)\n",
    "\n",
    "# Print the results neatly\n",
    "for detail in best_model_details:\n",
    "    print(f\"Model: {detail['Model Name']}, Best Score: {detail['Best Score']:.4f}, Best Params: {detail['Best Parameters']}\")\n"
   ]
  },
  {
   "cell_type": "code",
   "execution_count": 31,
   "id": "efee83b5-690a-4c80-b738-646a465e835e",
   "metadata": {},
   "outputs": [
    {
     "data": {
      "text/html": [
       "<div>\n",
       "<style scoped>\n",
       "    .dataframe tbody tr th:only-of-type {\n",
       "        vertical-align: middle;\n",
       "    }\n",
       "\n",
       "    .dataframe tbody tr th {\n",
       "        vertical-align: top;\n",
       "    }\n",
       "\n",
       "    .dataframe thead th {\n",
       "        text-align: right;\n",
       "    }\n",
       "</style>\n",
       "<table border=\"1\" class=\"dataframe\">\n",
       "  <thead>\n",
       "    <tr style=\"text-align: right;\">\n",
       "      <th></th>\n",
       "      <th>Model Name</th>\n",
       "      <th>Best Score</th>\n",
       "      <th>Best Parameters</th>\n",
       "    </tr>\n",
       "  </thead>\n",
       "  <tbody>\n",
       "    <tr>\n",
       "      <th>0</th>\n",
       "      <td>Gradient Boost</td>\n",
       "      <td>0.800903</td>\n",
       "      <td>{'n_estimators': 300, 'min_samples_split': 4, 'min_samples_leaf': 8, 'max_features': 'log2', 'max_depth': 10, 'learning_rate': 0.7000000000000001, 'criterion': 'friedman_mse'}</td>\n",
       "    </tr>\n",
       "    <tr>\n",
       "      <th>1</th>\n",
       "      <td>K-Nearest Neighbors</td>\n",
       "      <td>0.795839</td>\n",
       "      <td>{'weights': 'distance', 'n_neighbors': 3, 'metric': 'manhattan'}</td>\n",
       "    </tr>\n",
       "    <tr>\n",
       "      <th>2</th>\n",
       "      <td>Random Forest</td>\n",
       "      <td>0.645091</td>\n",
       "      <td>{'n_estimators': 300, 'min_samples_split': 2, 'max_features': 'auto', 'max_depth': 10}</td>\n",
       "    </tr>\n",
       "    <tr>\n",
       "      <th>3</th>\n",
       "      <td>Decision Tree</td>\n",
       "      <td>0.633652</td>\n",
       "      <td>{'min_samples_split': 10, 'min_samples_leaf': 1, 'max_depth': 10, 'criterion': 'gini'}</td>\n",
       "    </tr>\n",
       "    <tr>\n",
       "      <th>4</th>\n",
       "      <td>Logistic Regression</td>\n",
       "      <td>0.558583</td>\n",
       "      <td>{}</td>\n",
       "    </tr>\n",
       "    <tr>\n",
       "      <th>5</th>\n",
       "      <td>NaiveBayes</td>\n",
       "      <td>0.555894</td>\n",
       "      <td>{}</td>\n",
       "    </tr>\n",
       "  </tbody>\n",
       "</table>\n",
       "</div>"
      ],
      "text/plain": [
       "            Model Name  Best Score  \\\n",
       "0       Gradient Boost    0.800903   \n",
       "1  K-Nearest Neighbors    0.795839   \n",
       "2        Random Forest    0.645091   \n",
       "3        Decision Tree    0.633652   \n",
       "4  Logistic Regression    0.558583   \n",
       "5           NaiveBayes    0.555894   \n",
       "\n",
       "                                                                                                                                                                   Best Parameters  \n",
       "0  {'n_estimators': 300, 'min_samples_split': 4, 'min_samples_leaf': 8, 'max_features': 'log2', 'max_depth': 10, 'learning_rate': 0.7000000000000001, 'criterion': 'friedman_mse'}  \n",
       "1                                                                                                                 {'weights': 'distance', 'n_neighbors': 3, 'metric': 'manhattan'}  \n",
       "2                                                                                           {'n_estimators': 300, 'min_samples_split': 2, 'max_features': 'auto', 'max_depth': 10}  \n",
       "3                                                                                           {'min_samples_split': 10, 'min_samples_leaf': 1, 'max_depth': 10, 'criterion': 'gini'}  \n",
       "4                                                                                                                                                                               {}  \n",
       "5                                                                                                                                                                               {}  "
      ]
     },
     "execution_count": 31,
     "metadata": {},
     "output_type": "execute_result"
    }
   ],
   "source": [
    "pd.set_option('display.max_colwidth', None)\n",
    "pd.DataFrame(best_model_details)"
   ]
  },
  {
   "cell_type": "code",
   "execution_count": 33,
   "id": "73b8b4f1-314a-42fe-b512-91c5c46747ce",
   "metadata": {},
   "outputs": [
    {
     "data": {
      "text/html": [
       "<div>\n",
       "<style scoped>\n",
       "    .dataframe tbody tr th:only-of-type {\n",
       "        vertical-align: middle;\n",
       "    }\n",
       "\n",
       "    .dataframe tbody tr th {\n",
       "        vertical-align: top;\n",
       "    }\n",
       "\n",
       "    .dataframe thead th {\n",
       "        text-align: right;\n",
       "    }\n",
       "</style>\n",
       "<table border=\"1\" class=\"dataframe\">\n",
       "  <thead>\n",
       "    <tr style=\"text-align: right;\">\n",
       "      <th></th>\n",
       "      <th>Model Name</th>\n",
       "      <th>Test Score</th>\n",
       "    </tr>\n",
       "  </thead>\n",
       "  <tbody>\n",
       "    <tr>\n",
       "      <th>0</th>\n",
       "      <td>Logistic Regression</td>\n",
       "      <td>0.554117</td>\n",
       "    </tr>\n",
       "    <tr>\n",
       "      <th>1</th>\n",
       "      <td>Decision Tree</td>\n",
       "      <td>0.631037</td>\n",
       "    </tr>\n",
       "    <tr>\n",
       "      <th>2</th>\n",
       "      <td>Random Forest</td>\n",
       "      <td>0.643264</td>\n",
       "    </tr>\n",
       "    <tr>\n",
       "      <th>3</th>\n",
       "      <td>NaiveBayes</td>\n",
       "      <td>0.552182</td>\n",
       "    </tr>\n",
       "    <tr>\n",
       "      <th>4</th>\n",
       "      <td>K-Nearest Neighbors</td>\n",
       "      <td>0.821670</td>\n",
       "    </tr>\n",
       "    <tr>\n",
       "      <th>5</th>\n",
       "      <td>Gradient Boost</td>\n",
       "      <td>0.809794</td>\n",
       "    </tr>\n",
       "  </tbody>\n",
       "</table>\n",
       "</div>"
      ],
      "text/plain": [
       "            Model Name  Test Score\n",
       "0  Logistic Regression    0.554117\n",
       "1        Decision Tree    0.631037\n",
       "2        Random Forest    0.643264\n",
       "3           NaiveBayes    0.552182\n",
       "4  K-Nearest Neighbors    0.821670\n",
       "5       Gradient Boost    0.809794"
      ]
     },
     "execution_count": 33,
     "metadata": {},
     "output_type": "execute_result"
    }
   ],
   "source": [
    "test_model = []\n",
    "\n",
    "for model_name, model in best_model.items():\n",
    "    test_model.append({\"Model Name\": model_name, \"Test Score\": model.score(X_test, y_test)})\n",
    "\n",
    "pd.DataFrame(test_model)"
   ]
  },
  {
   "cell_type": "code",
   "execution_count": 34,
   "id": "6315ccef-8096-4e58-9968-6ba866c7a233",
   "metadata": {},
   "outputs": [],
   "source": [
    "train_model_metrics = []\n",
    "test_model_metrics = []\n",
    "\n",
    "for model_name, model in best_model.items():\n",
    "    y_pred_train = model.predict(X_train)\n",
    "    y_pred_train_probs = model.predict_proba(X_train)[:, 1]\n",
    "    tn_train, fp_train, fn_train, tp_train = confusion_matrix(y_train, y_pred_train).ravel()\n",
    "    \n",
    "    y_pred_test = model.predict(X_test)\n",
    "    y_pred_test_probs = model.predict_proba(X_test)[:, 1]\n",
    "    tn_test, fp_test, fn_test, tp_test = confusion_matrix(y_test, y_pred_test).ravel()\n",
    "    \n",
    "    train_mae = mean_absolute_error(y_train, y_pred_train)\n",
    "    train_mse = mean_squared_error(y_train, y_pred_train)\n",
    "    train_rmse = np.sqrt(train_mse)\n",
    "    train_auc = roc_auc_score(y_train, y_pred_train_probs)\n",
    "    train_sensitivity = tp_train / (tp_train + fn_train)\n",
    "    train_specificity = tn_train / (tn_train + fp_train)\n",
    "    train_mcc = matthews_corrcoef(y_train, y_pred_train)\n",
    "\n",
    "    test_mae = mean_absolute_error(y_test, y_pred_test)\n",
    "    test_mse = mean_squared_error(y_test, y_pred_test)\n",
    "    test_rmse = np.sqrt(test_mse)\n",
    "    test_auc = roc_auc_score(y_test, y_pred_test_probs)\n",
    "    test_sensitivity = tp_test / (tp_test + fn_test)\n",
    "    test_specificity = tn_test / (tn_test + fp_test)\n",
    "    test_mcc = matthews_corrcoef(y_test, y_pred_test)\n",
    "    \n",
    "    train_model_metrics.append({\"Model Name\": model_name, \"Mean Absolute Error\": train_mae, \"Mean Squared Error\": train_mse, \"Root Mean Squared Error\": train_rmse, \"AUC\": train_auc, \"Sensitivity\": train_sensitivity, \"Specificity\": train_specificity, \"Matthews correlation coefficient\": train_mcc})\n",
    "    test_model_metrics.append({\"Model Name\": model_name, \"Mean Absolute Error\": test_mae, \"Mean Squared Error\": test_mse, \"Root Mean Squared Error\": test_rmse, \"AUC\": test_auc, \"Sensitivity\": test_sensitivity, \"Specificity\": test_specificity, \"Matthews correlation coefficient\": test_mcc})\n",
    "    \n",
    "\n",
    "train_model_metrics = pd.DataFrame(train_model_metrics)\n",
    "test_model_metrics = pd.DataFrame(test_model_metrics)"
   ]
  },
  {
   "cell_type": "code",
   "execution_count": 35,
   "id": "798b0533-7eb9-4eac-af59-46110d8a268b",
   "metadata": {},
   "outputs": [
    {
     "name": "stdout",
     "output_type": "stream",
     "text": [
      "-------- Training Data Metrics --------\n"
     ]
    },
    {
     "data": {
      "text/html": [
       "<div>\n",
       "<style scoped>\n",
       "    .dataframe tbody tr th:only-of-type {\n",
       "        vertical-align: middle;\n",
       "    }\n",
       "\n",
       "    .dataframe tbody tr th {\n",
       "        vertical-align: top;\n",
       "    }\n",
       "\n",
       "    .dataframe thead th {\n",
       "        text-align: right;\n",
       "    }\n",
       "</style>\n",
       "<table border=\"1\" class=\"dataframe\">\n",
       "  <thead>\n",
       "    <tr style=\"text-align: right;\">\n",
       "      <th></th>\n",
       "      <th>Model Name</th>\n",
       "      <th>Mean Absolute Error</th>\n",
       "      <th>Mean Squared Error</th>\n",
       "      <th>Root Mean Squared Error</th>\n",
       "      <th>AUC</th>\n",
       "      <th>Sensitivity</th>\n",
       "      <th>Specificity</th>\n",
       "      <th>Matthews correlation coefficient</th>\n",
       "    </tr>\n",
       "  </thead>\n",
       "  <tbody>\n",
       "    <tr>\n",
       "      <th>0</th>\n",
       "      <td>Logistic Regression</td>\n",
       "      <td>0.441417</td>\n",
       "      <td>0.441417</td>\n",
       "      <td>0.664392</td>\n",
       "      <td>0.585341</td>\n",
       "      <td>0.614269</td>\n",
       "      <td>0.505457</td>\n",
       "      <td>0.120372</td>\n",
       "    </tr>\n",
       "    <tr>\n",
       "      <th>1</th>\n",
       "      <td>Decision Tree</td>\n",
       "      <td>0.361893</td>\n",
       "      <td>0.361893</td>\n",
       "      <td>0.601575</td>\n",
       "      <td>0.699102</td>\n",
       "      <td>0.572457</td>\n",
       "      <td>0.700739</td>\n",
       "      <td>0.275633</td>\n",
       "    </tr>\n",
       "    <tr>\n",
       "      <th>2</th>\n",
       "      <td>Random Forest</td>\n",
       "      <td>0.346979</td>\n",
       "      <td>0.346979</td>\n",
       "      <td>0.589050</td>\n",
       "      <td>0.716874</td>\n",
       "      <td>0.569639</td>\n",
       "      <td>0.732569</td>\n",
       "      <td>0.306589</td>\n",
       "    </tr>\n",
       "    <tr>\n",
       "      <th>3</th>\n",
       "      <td>NaiveBayes</td>\n",
       "      <td>0.444090</td>\n",
       "      <td>0.444090</td>\n",
       "      <td>0.666401</td>\n",
       "      <td>0.585689</td>\n",
       "      <td>0.679864</td>\n",
       "      <td>0.437654</td>\n",
       "      <td>0.121006</td>\n",
       "    </tr>\n",
       "    <tr>\n",
       "      <th>4</th>\n",
       "      <td>K-Nearest Neighbors</td>\n",
       "      <td>0.000000</td>\n",
       "      <td>0.000000</td>\n",
       "      <td>0.000000</td>\n",
       "      <td>1.000000</td>\n",
       "      <td>1.000000</td>\n",
       "      <td>1.000000</td>\n",
       "      <td>1.000000</td>\n",
       "    </tr>\n",
       "    <tr>\n",
       "      <th>5</th>\n",
       "      <td>Gradient Boost</td>\n",
       "      <td>0.094877</td>\n",
       "      <td>0.094877</td>\n",
       "      <td>0.308021</td>\n",
       "      <td>0.968180</td>\n",
       "      <td>0.911440</td>\n",
       "      <td>0.899096</td>\n",
       "      <td>0.810330</td>\n",
       "    </tr>\n",
       "  </tbody>\n",
       "</table>\n",
       "</div>"
      ],
      "text/plain": [
       "            Model Name  Mean Absolute Error  Mean Squared Error  \\\n",
       "0  Logistic Regression             0.441417            0.441417   \n",
       "1        Decision Tree             0.361893            0.361893   \n",
       "2        Random Forest             0.346979            0.346979   \n",
       "3           NaiveBayes             0.444090            0.444090   \n",
       "4  K-Nearest Neighbors             0.000000            0.000000   \n",
       "5       Gradient Boost             0.094877            0.094877   \n",
       "\n",
       "   Root Mean Squared Error       AUC  Sensitivity  Specificity  \\\n",
       "0                 0.664392  0.585341     0.614269     0.505457   \n",
       "1                 0.601575  0.699102     0.572457     0.700739   \n",
       "2                 0.589050  0.716874     0.569639     0.732569   \n",
       "3                 0.666401  0.585689     0.679864     0.437654   \n",
       "4                 0.000000  1.000000     1.000000     1.000000   \n",
       "5                 0.308021  0.968180     0.911440     0.899096   \n",
       "\n",
       "   Matthews correlation coefficient  \n",
       "0                          0.120372  \n",
       "1                          0.275633  \n",
       "2                          0.306589  \n",
       "3                          0.121006  \n",
       "4                          1.000000  \n",
       "5                          0.810330  "
      ]
     },
     "execution_count": 35,
     "metadata": {},
     "output_type": "execute_result"
    }
   ],
   "source": [
    "print(\"-------- Training Data Metrics --------\")\n",
    "train_model_metrics"
   ]
  },
  {
   "cell_type": "code",
   "execution_count": 36,
   "id": "ac93b95f-f858-4800-bab9-b7d5cb854f0d",
   "metadata": {},
   "outputs": [
    {
     "name": "stdout",
     "output_type": "stream",
     "text": [
      "-------- Test Data Metrics --------\n"
     ]
    },
    {
     "data": {
      "text/html": [
       "<div>\n",
       "<style scoped>\n",
       "    .dataframe tbody tr th:only-of-type {\n",
       "        vertical-align: middle;\n",
       "    }\n",
       "\n",
       "    .dataframe tbody tr th {\n",
       "        vertical-align: top;\n",
       "    }\n",
       "\n",
       "    .dataframe thead th {\n",
       "        text-align: right;\n",
       "    }\n",
       "</style>\n",
       "<table border=\"1\" class=\"dataframe\">\n",
       "  <thead>\n",
       "    <tr style=\"text-align: right;\">\n",
       "      <th></th>\n",
       "      <th>Model Name</th>\n",
       "      <th>Mean Absolute Error</th>\n",
       "      <th>Mean Squared Error</th>\n",
       "      <th>Root Mean Squared Error</th>\n",
       "      <th>AUC</th>\n",
       "      <th>Sensitivity</th>\n",
       "      <th>Specificity</th>\n",
       "      <th>Matthews correlation coefficient</th>\n",
       "    </tr>\n",
       "  </thead>\n",
       "  <tbody>\n",
       "    <tr>\n",
       "      <th>0</th>\n",
       "      <td>Logistic Regression</td>\n",
       "      <td>0.445883</td>\n",
       "      <td>0.445883</td>\n",
       "      <td>0.667744</td>\n",
       "      <td>0.579181</td>\n",
       "      <td>0.610196</td>\n",
       "      <td>0.500012</td>\n",
       "      <td>0.110841</td>\n",
       "    </tr>\n",
       "    <tr>\n",
       "      <th>1</th>\n",
       "      <td>Decision Tree</td>\n",
       "      <td>0.368963</td>\n",
       "      <td>0.368963</td>\n",
       "      <td>0.607424</td>\n",
       "      <td>0.690134</td>\n",
       "      <td>0.567126</td>\n",
       "      <td>0.692699</td>\n",
       "      <td>0.262014</td>\n",
       "    </tr>\n",
       "    <tr>\n",
       "      <th>2</th>\n",
       "      <td>Random Forest</td>\n",
       "      <td>0.356736</td>\n",
       "      <td>0.356736</td>\n",
       "      <td>0.597274</td>\n",
       "      <td>0.704458</td>\n",
       "      <td>0.561803</td>\n",
       "      <td>0.721859</td>\n",
       "      <td>0.287564</td>\n",
       "    </tr>\n",
       "    <tr>\n",
       "      <th>3</th>\n",
       "      <td>NaiveBayes</td>\n",
       "      <td>0.447818</td>\n",
       "      <td>0.447818</td>\n",
       "      <td>0.669192</td>\n",
       "      <td>0.579438</td>\n",
       "      <td>0.674532</td>\n",
       "      <td>0.434137</td>\n",
       "      <td>0.111879</td>\n",
       "    </tr>\n",
       "    <tr>\n",
       "      <th>4</th>\n",
       "      <td>K-Nearest Neighbors</td>\n",
       "      <td>0.178330</td>\n",
       "      <td>0.178330</td>\n",
       "      <td>0.422292</td>\n",
       "      <td>0.911382</td>\n",
       "      <td>0.952017</td>\n",
       "      <td>0.695909</td>\n",
       "      <td>0.668100</td>\n",
       "    </tr>\n",
       "    <tr>\n",
       "      <th>5</th>\n",
       "      <td>Gradient Boost</td>\n",
       "      <td>0.190206</td>\n",
       "      <td>0.190206</td>\n",
       "      <td>0.436126</td>\n",
       "      <td>0.888625</td>\n",
       "      <td>0.823830</td>\n",
       "      <td>0.796252</td>\n",
       "      <td>0.620067</td>\n",
       "    </tr>\n",
       "  </tbody>\n",
       "</table>\n",
       "</div>"
      ],
      "text/plain": [
       "            Model Name  Mean Absolute Error  Mean Squared Error  \\\n",
       "0  Logistic Regression             0.445883            0.445883   \n",
       "1        Decision Tree             0.368963            0.368963   \n",
       "2        Random Forest             0.356736            0.356736   \n",
       "3           NaiveBayes             0.447818            0.447818   \n",
       "4  K-Nearest Neighbors             0.178330            0.178330   \n",
       "5       Gradient Boost             0.190206            0.190206   \n",
       "\n",
       "   Root Mean Squared Error       AUC  Sensitivity  Specificity  \\\n",
       "0                 0.667744  0.579181     0.610196     0.500012   \n",
       "1                 0.607424  0.690134     0.567126     0.692699   \n",
       "2                 0.597274  0.704458     0.561803     0.721859   \n",
       "3                 0.669192  0.579438     0.674532     0.434137   \n",
       "4                 0.422292  0.911382     0.952017     0.695909   \n",
       "5                 0.436126  0.888625     0.823830     0.796252   \n",
       "\n",
       "   Matthews correlation coefficient  \n",
       "0                          0.110841  \n",
       "1                          0.262014  \n",
       "2                          0.287564  \n",
       "3                          0.111879  \n",
       "4                          0.668100  \n",
       "5                          0.620067  "
      ]
     },
     "execution_count": 36,
     "metadata": {},
     "output_type": "execute_result"
    }
   ],
   "source": [
    "print(\"-------- Test Data Metrics --------\")\n",
    "test_model_metrics"
   ]
  },
  {
   "cell_type": "markdown",
   "id": "766a5316-b074-428d-a655-d36e26d6f9d7",
   "metadata": {},
   "source": [
    "### According to above result, i consider KNN "
   ]
  },
  {
   "cell_type": "code",
   "execution_count": 37,
   "id": "33aae89f-1114-4eca-8b6b-e44366fd4f6c",
   "metadata": {},
   "outputs": [
    {
     "data": {
      "text/html": [
       "<style>#sk-container-id-1 {color: black;background-color: white;}#sk-container-id-1 pre{padding: 0;}#sk-container-id-1 div.sk-toggleable {background-color: white;}#sk-container-id-1 label.sk-toggleable__label {cursor: pointer;display: block;width: 100%;margin-bottom: 0;padding: 0.3em;box-sizing: border-box;text-align: center;}#sk-container-id-1 label.sk-toggleable__label-arrow:before {content: \"▸\";float: left;margin-right: 0.25em;color: #696969;}#sk-container-id-1 label.sk-toggleable__label-arrow:hover:before {color: black;}#sk-container-id-1 div.sk-estimator:hover label.sk-toggleable__label-arrow:before {color: black;}#sk-container-id-1 div.sk-toggleable__content {max-height: 0;max-width: 0;overflow: hidden;text-align: left;background-color: #f0f8ff;}#sk-container-id-1 div.sk-toggleable__content pre {margin: 0.2em;color: black;border-radius: 0.25em;background-color: #f0f8ff;}#sk-container-id-1 input.sk-toggleable__control:checked~div.sk-toggleable__content {max-height: 200px;max-width: 100%;overflow: auto;}#sk-container-id-1 input.sk-toggleable__control:checked~label.sk-toggleable__label-arrow:before {content: \"▾\";}#sk-container-id-1 div.sk-estimator input.sk-toggleable__control:checked~label.sk-toggleable__label {background-color: #d4ebff;}#sk-container-id-1 div.sk-label input.sk-toggleable__control:checked~label.sk-toggleable__label {background-color: #d4ebff;}#sk-container-id-1 input.sk-hidden--visually {border: 0;clip: rect(1px 1px 1px 1px);clip: rect(1px, 1px, 1px, 1px);height: 1px;margin: -1px;overflow: hidden;padding: 0;position: absolute;width: 1px;}#sk-container-id-1 div.sk-estimator {font-family: monospace;background-color: #f0f8ff;border: 1px dotted black;border-radius: 0.25em;box-sizing: border-box;margin-bottom: 0.5em;}#sk-container-id-1 div.sk-estimator:hover {background-color: #d4ebff;}#sk-container-id-1 div.sk-parallel-item::after {content: \"\";width: 100%;border-bottom: 1px solid gray;flex-grow: 1;}#sk-container-id-1 div.sk-label:hover label.sk-toggleable__label {background-color: #d4ebff;}#sk-container-id-1 div.sk-serial::before {content: \"\";position: absolute;border-left: 1px solid gray;box-sizing: border-box;top: 0;bottom: 0;left: 50%;z-index: 0;}#sk-container-id-1 div.sk-serial {display: flex;flex-direction: column;align-items: center;background-color: white;padding-right: 0.2em;padding-left: 0.2em;position: relative;}#sk-container-id-1 div.sk-item {position: relative;z-index: 1;}#sk-container-id-1 div.sk-parallel {display: flex;align-items: stretch;justify-content: center;background-color: white;position: relative;}#sk-container-id-1 div.sk-item::before, #sk-container-id-1 div.sk-parallel-item::before {content: \"\";position: absolute;border-left: 1px solid gray;box-sizing: border-box;top: 0;bottom: 0;left: 50%;z-index: -1;}#sk-container-id-1 div.sk-parallel-item {display: flex;flex-direction: column;z-index: 1;position: relative;background-color: white;}#sk-container-id-1 div.sk-parallel-item:first-child::after {align-self: flex-end;width: 50%;}#sk-container-id-1 div.sk-parallel-item:last-child::after {align-self: flex-start;width: 50%;}#sk-container-id-1 div.sk-parallel-item:only-child::after {width: 0;}#sk-container-id-1 div.sk-dashed-wrapped {border: 1px dashed gray;margin: 0 0.4em 0.5em 0.4em;box-sizing: border-box;padding-bottom: 0.4em;background-color: white;}#sk-container-id-1 div.sk-label label {font-family: monospace;font-weight: bold;display: inline-block;line-height: 1.2em;}#sk-container-id-1 div.sk-label-container {text-align: center;}#sk-container-id-1 div.sk-container {/* jupyter's `normalize.less` sets `[hidden] { display: none; }` but bootstrap.min.css set `[hidden] { display: none !important; }` so we also need the `!important` here to be able to override the default hidden behavior on the sphinx rendered scikit-learn.org. See: https://github.com/scikit-learn/scikit-learn/issues/21755 */display: inline-block !important;position: relative;}#sk-container-id-1 div.sk-text-repr-fallback {display: none;}</style><div id=\"sk-container-id-1\" class=\"sk-top-container\"><div class=\"sk-text-repr-fallback\"><pre>KNeighborsClassifier(metric=&#x27;manhattan&#x27;, n_neighbors=3, weights=&#x27;distance&#x27;)</pre><b>In a Jupyter environment, please rerun this cell to show the HTML representation or trust the notebook. <br />On GitHub, the HTML representation is unable to render, please try loading this page with nbviewer.org.</b></div><div class=\"sk-container\" hidden><div class=\"sk-item\"><div class=\"sk-estimator sk-toggleable\"><input class=\"sk-toggleable__control sk-hidden--visually\" id=\"sk-estimator-id-1\" type=\"checkbox\" checked><label for=\"sk-estimator-id-1\" class=\"sk-toggleable__label sk-toggleable__label-arrow\">KNeighborsClassifier</label><div class=\"sk-toggleable__content\"><pre>KNeighborsClassifier(metric=&#x27;manhattan&#x27;, n_neighbors=3, weights=&#x27;distance&#x27;)</pre></div></div></div></div></div>"
      ],
      "text/plain": [
       "KNeighborsClassifier(metric='manhattan', n_neighbors=3, weights='distance')"
      ]
     },
     "execution_count": 37,
     "metadata": {},
     "output_type": "execute_result"
    }
   ],
   "source": [
    "model = KNeighborsClassifier(n_neighbors=3, weights='distance', metric='manhattan')\n",
    "model.fit(X_train, y_train)"
   ]
  },
  {
   "cell_type": "code",
   "execution_count": 38,
   "id": "3b39436c-5bee-43fb-8f36-c1285079f5c3",
   "metadata": {},
   "outputs": [],
   "source": [
    "y_pred = model.predict(X_test)"
   ]
  },
  {
   "cell_type": "code",
   "execution_count": 46,
   "id": "05084349-588b-4e73-8e6c-5d6c9aa6b97b",
   "metadata": {},
   "outputs": [
    {
     "name": "stdout",
     "output_type": "stream",
     "text": [
      "📊 Classification Report:\n",
      "               precision    recall  f1-score   support\n",
      "\n",
      "  Non-Repeat       0.94      0.70      0.80     40501\n",
      "      Repeat       0.75      0.95      0.84     39076\n",
      "\n",
      "    accuracy                           0.82     79577\n",
      "   macro avg       0.84      0.82      0.82     79577\n",
      "weighted avg       0.85      0.82      0.82     79577\n",
      "\n",
      "🔍 Confusion Matrix:\n",
      " [[28185 12316]\n",
      " [ 1875 37201]]\n"
     ]
    }
   ],
   "source": [
    "report = classification_report(y_test, y_pred, target_names=[\"Non-Repeat\", \"Repeat\"])\n",
    "conf_matrix = confusion_matrix(y_test, y_pred)\n",
    "\n",
    "print(\"📊 Classification Report:\\n\", report)\n",
    "print(\"🔍 Confusion Matrix:\\n\", conf_matrix)"
   ]
  },
  {
   "cell_type": "markdown",
   "id": "c18aab62-6cf5-4905-af6f-ab51016d74d2",
   "metadata": {},
   "source": [
    "#### Product Recommendation System for each customer"
   ]
  },
  {
   "cell_type": "code",
   "execution_count": 40,
   "id": "1dbc1454-2e72-4e10-8349-59745ab60c80",
   "metadata": {},
   "outputs": [],
   "source": [
    "customer_item_matrix = predict_data.pivot_table(index='CustomerID', columns='Description', values='Quantity', aggfunc='sum').fillna(0)"
   ]
  },
  {
   "cell_type": "code",
   "execution_count": 41,
   "id": "7e1fb2fc-921b-4f72-8335-e54dcd1a5186",
   "metadata": {},
   "outputs": [],
   "source": [
    "item_similarity = pd.DataFrame(cosine_similarity(customer_item_matrix.T), \n",
    "                                index=customer_item_matrix.columns, \n",
    "                                columns=customer_item_matrix.columns)"
   ]
  },
  {
   "cell_type": "code",
   "execution_count": 42,
   "id": "6120506e-06be-49c6-8719-7ff43179abcb",
   "metadata": {},
   "outputs": [],
   "source": [
    "def recommend_products(purchased_product, n=5):\n",
    "    if purchased_product not in item_similarity.index:\n",
    "        return \"Product not found\"\n",
    "    \n",
    "    similar_items = item_similarity[purchased_product].sort_values(ascending=False).iloc[1:n+1]\n",
    "    return similar_items"
   ]
  },
  {
   "cell_type": "code",
   "execution_count": 43,
   "id": "0cc1a4ca-e860-42e5-a281-e01a8e987349",
   "metadata": {},
   "outputs": [],
   "source": [
    "def recommend_for_customer(customer_id, n=5):\n",
    "    if customer_id not in customer_item_matrix.index:\n",
    "        return \"Customer not found\"\n",
    "    \n",
    "    # Get items purchased by the customer\n",
    "    purchased_items = customer_item_matrix.loc[customer_id]\n",
    "    purchased_items = purchased_items[purchased_items > 0].index\n",
    "    \n",
    "    recommendations = {}\n",
    "    for item in purchased_items:\n",
    "        recs = recommend_products(item, n)\n",
    "        for rec_item, score in recs.items():\n",
    "            recommendations[rec_item] = recommendations.get(rec_item, 0) + score\n",
    "    \n",
    "    # Sort recommendations by similarity score\n",
    "    recommended_products = pd.Series(recommendations).sort_values(ascending=False).head(n)\n",
    "    max_score = recommended_products.max()\n",
    "    recommended_products = recommended_products / max_score\n",
    "    \n",
    "    return recommended_products"
   ]
  },
  {
   "cell_type": "code",
   "execution_count": 44,
   "id": "641f42e1-8bf1-46ee-9ca7-a742dc45c4d5",
   "metadata": {},
   "outputs": [
    {
     "data": {
      "text/plain": [
       "HAND WARMER RED POLKA DOT              1.000000\n",
       "IVORY EMBROIDERED QUILT                0.958150\n",
       "GLASS STAR FROSTED T-LIGHT HOLDER      0.892027\n",
       "3 DRAWER ANTIQUE WHITE WOOD CABINET    0.746281\n",
       "VINTAGE BILLBOARD DRINK ME MUG         0.734982\n",
       "dtype: float64"
      ]
     },
     "execution_count": 44,
     "metadata": {},
     "output_type": "execute_result"
    }
   ],
   "source": [
    "recommend_for_customer(17850)"
   ]
  },
  {
   "cell_type": "code",
   "execution_count": null,
   "id": "eb7679a7-5d23-492b-bbae-821a97f8a5ac",
   "metadata": {},
   "outputs": [],
   "source": []
  }
 ],
 "metadata": {
  "kernelspec": {
   "display_name": "Python 3 (ipykernel)",
   "language": "python",
   "name": "python3"
  },
  "language_info": {
   "codemirror_mode": {
    "name": "ipython",
    "version": 3
   },
   "file_extension": ".py",
   "mimetype": "text/x-python",
   "name": "python",
   "nbconvert_exporter": "python",
   "pygments_lexer": "ipython3",
   "version": "3.11.7"
  }
 },
 "nbformat": 4,
 "nbformat_minor": 5
}
